{
 "cells": [
  {
   "cell_type": "code",
   "execution_count": 2,
   "metadata": {},
   "outputs": [],
   "source": [
    "from bs4 import BeautifulSoup  # to parse html\n",
    "from datetime import datetime\n",
    "import os\n",
    "import pandas as pd\n",
    "import numpy as np\n",
    "\n",
    "import requests\n",
    "import random\n",
    "from time import sleep\n",
    "from tqdm import tqdm\n",
    "\n",
    "import re\n",
    "import warnings\n",
    "\n",
    "warnings.filterwarnings(\"ignore\", category=UserWarning)"
   ]
  },
  {
   "cell_type": "markdown",
   "metadata": {},
   "source": [
    "The id for the URL for example in misison impossible is https://www.imdb.com/title/tt9603212/\n",
    "Which means every movie is held on that 7 character id "
   ]
  },
  {
   "cell_type": "code",
   "execution_count": null,
   "metadata": {},
   "outputs": [],
   "source": [
    "headers = {\n",
    "    'User-Agent': 'Mozilla/5.0 (Windows NT 10.0; Win64; x64) AppleWebKit/537.36 (KHTML, like Gecko) Chrome/91.0.4472.124 Safari/537.36'\n",
    "}\n",
    "\n",
    "page = requests.get(f\"https://www.imdb.com/title/tt9603212/\", headers=headers, timeout=15)\n",
    "soup = BeautifulSoup(page.text, \"html.parser\")\n",
    "soup\n",
    "main_content = soup.find('main', attrs={\"role\": \"main\"})\n",
    "section_content = main_content.find('div').find('section')\n",
    "section_content"
   ]
  },
  {
   "cell_type": "code",
   "execution_count": null,
   "metadata": {},
   "outputs": [],
   "source": [
    "content = {\n",
    "    \"Title\" : ,\n",
    "    \"Type of production\" : , # movie, tv show, \n",
    "    \"Year\" : ,\n",
    "    \"Viewer\" : ,\n",
    "    \"Length\" : ,\n",
    "    \"Short Description\" : , \n",
    "    \"Rating\" : ,\n",
    "    \"Number of ratings\" : ,\n",
    "    \"Popularity\" : ,\n",
    "    \"Metascore\" : ,\n",
    "    \"Number of user reviews\" : ,\n",
    "    \"Number of critic reviews\" : ,\n",
    "    \"Genre\" : ,\n",
    "    \"Director\" : ,\n",
    "    \"Writer\" : ,\n",
    "    \"More like this\" : ,\n",
    "    \"Storyline\" : ,\n",
    "    \"Plot summary\" : ,\n",
    "    \"Plot synopsis\" : ,\n",
    "    \"AKA\" : ,\n",
    "    \"Keywords\" : ,\n",
    "    \"Taglines\" : ,\n",
    "    \"Release date\" : ,\n",
    "    \"Country of Origin\" : ,\n",
    "    \"Filming locations\" : ,\n",
    "    \"Languages\" : ,\n",
    "    \"Production companies\" : ,\n",
    "    \"Budget\" : ,\n",
    "    \"Gross worldwide\" : ,\n",
    "    \"Gross US & Canada\" : ,\n",
    "    \"Color\" : ,\n",
    "    \"Aspect ratio\" : ,\n",
    "    \"Sounds mix\" : ,\n",
    "    \"Top cast\" : ,\n",
    "    \"All cast and crew\" : ,\n",
    "\n",
    "}"
   ]
  }
 ],
 "metadata": {
  "kernelspec": {
   "display_name": "cl-base",
   "language": "python",
   "name": "python3"
  },
  "language_info": {
   "codemirror_mode": {
    "name": "ipython",
    "version": 3
   },
   "file_extension": ".py",
   "mimetype": "text/x-python",
   "name": "python",
   "nbconvert_exporter": "python",
   "pygments_lexer": "ipython3",
   "version": "3.10.9"
  },
  "orig_nbformat": 4
 },
 "nbformat": 4,
 "nbformat_minor": 2
}
