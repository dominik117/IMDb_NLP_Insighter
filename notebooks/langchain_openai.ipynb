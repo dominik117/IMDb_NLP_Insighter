{
  "cells": [
    {
      "cell_type": "code",
      "execution_count": null,
      "metadata": {
        "colab": {
          "base_uri": "https://localhost:8080/"
        },
        "id": "ublhmp4jOq9T",
        "outputId": "23c5569e-246b-456d-a756-0bbafa1d278c"
      },
      "outputs": [
        {
          "name": "stdout",
          "output_type": "stream",
          "text": [
            "Looking in indexes: https://pypi.org/simple, https://us-python.pkg.dev/colab-wheels/public/simple/\n",
            "Collecting qdrant-client\n",
            "  Downloading qdrant_client-1.2.0-py3-none-any.whl (129 kB)\n",
            "\u001b[2K     \u001b[90m━━━━━━━━━━━━━━━━━━━━━━━━━━━━━━━━━━━━━━━\u001b[0m \u001b[32m129.9/129.9 kB\u001b[0m \u001b[31m6.8 MB/s\u001b[0m eta \u001b[36m0:00:00\u001b[0m\n",
            "\u001b[?25hRequirement already satisfied: grpcio>=1.41.0 in /usr/local/lib/python3.10/dist-packages (from qdrant-client) (1.54.0)\n",
            "Collecting grpcio-tools>=1.41.0 (from qdrant-client)\n",
            "  Downloading grpcio_tools-1.54.2-cp310-cp310-manylinux_2_17_x86_64.manylinux2014_x86_64.whl (2.4 MB)\n",
            "\u001b[2K     \u001b[90m━━━━━━━━━━━━━━━━━━━━━━━━━━━━━━━━━━━━━━━━\u001b[0m \u001b[32m2.4/2.4 MB\u001b[0m \u001b[31m64.0 MB/s\u001b[0m eta \u001b[36m0:00:00\u001b[0m\n",
            "\u001b[?25hCollecting httpx[http2]>=0.14.0 (from qdrant-client)\n",
            "  Downloading httpx-0.24.1-py3-none-any.whl (75 kB)\n",
            "\u001b[2K     \u001b[90m━━━━━━━━━━━━━━━━━━━━━━━━━━━━━━━━━━━━━━━━\u001b[0m \u001b[32m75.4/75.4 kB\u001b[0m \u001b[31m8.0 MB/s\u001b[0m eta \u001b[36m0:00:00\u001b[0m\n",
            "\u001b[?25hRequirement already satisfied: numpy>=1.21 in /usr/local/lib/python3.10/dist-packages (from qdrant-client) (1.22.4)\n",
            "Collecting portalocker<3.0.0,>=2.7.0 (from qdrant-client)\n",
            "  Downloading portalocker-2.7.0-py2.py3-none-any.whl (15 kB)\n",
            "Requirement already satisfied: pydantic<2.0,>=1.8 in /usr/local/lib/python3.10/dist-packages (from qdrant-client) (1.10.7)\n",
            "Requirement already satisfied: typing-extensions<4.6.0,>=4.0.0 in /usr/local/lib/python3.10/dist-packages (from qdrant-client) (4.5.0)\n",
            "Requirement already satisfied: urllib3<2.0.0,>=1.26.14 in /usr/local/lib/python3.10/dist-packages (from qdrant-client) (1.26.15)\n",
            "Collecting protobuf<5.0dev,>=4.21.6 (from grpcio-tools>=1.41.0->qdrant-client)\n",
            "  Downloading protobuf-4.23.2-cp37-abi3-manylinux2014_x86_64.whl (304 kB)\n",
            "\u001b[2K     \u001b[90m━━━━━━━━━━━━━━━━━━━━━━━━━━━━━━━━━━━━━━\u001b[0m \u001b[32m304.5/304.5 kB\u001b[0m \u001b[31m32.1 MB/s\u001b[0m eta \u001b[36m0:00:00\u001b[0m\n",
            "\u001b[?25hCollecting grpcio>=1.41.0 (from qdrant-client)\n",
            "  Downloading grpcio-1.54.2-cp310-cp310-manylinux_2_17_x86_64.manylinux2014_x86_64.whl (5.1 MB)\n",
            "\u001b[2K     \u001b[90m━━━━━━━━━━━━━━━━━━━━━━━━━━━━━━━━━━━━━━━━\u001b[0m \u001b[32m5.1/5.1 MB\u001b[0m \u001b[31m39.6 MB/s\u001b[0m eta \u001b[36m0:00:00\u001b[0m\n",
            "\u001b[?25hRequirement already satisfied: setuptools in /usr/local/lib/python3.10/dist-packages (from grpcio-tools>=1.41.0->qdrant-client) (67.7.2)\n",
            "Requirement already satisfied: certifi in /usr/local/lib/python3.10/dist-packages (from httpx[http2]>=0.14.0->qdrant-client) (2022.12.7)\n",
            "Collecting httpcore<0.18.0,>=0.15.0 (from httpx[http2]>=0.14.0->qdrant-client)\n",
            "  Downloading httpcore-0.17.2-py3-none-any.whl (72 kB)\n",
            "\u001b[2K     \u001b[90m━━━━━━━━━━━━━━━━━━━━━━━━━━━━━━━━━━━━━━━━\u001b[0m \u001b[32m72.5/72.5 kB\u001b[0m \u001b[31m7.6 MB/s\u001b[0m eta \u001b[36m0:00:00\u001b[0m\n",
            "\u001b[?25hRequirement already satisfied: idna in /usr/local/lib/python3.10/dist-packages (from httpx[http2]>=0.14.0->qdrant-client) (3.4)\n",
            "Requirement already satisfied: sniffio in /usr/local/lib/python3.10/dist-packages (from httpx[http2]>=0.14.0->qdrant-client) (1.3.0)\n",
            "Collecting h2<5,>=3 (from httpx[http2]>=0.14.0->qdrant-client)\n",
            "  Downloading h2-4.1.0-py3-none-any.whl (57 kB)\n",
            "\u001b[2K     \u001b[90m━━━━━━━━━━━━━━━━━━━━━━━━━━━━━━━━━━━━━━━━\u001b[0m \u001b[32m57.5/57.5 kB\u001b[0m \u001b[31m3.0 MB/s\u001b[0m eta \u001b[36m0:00:00\u001b[0m\n",
            "\u001b[?25hCollecting hyperframe<7,>=6.0 (from h2<5,>=3->httpx[http2]>=0.14.0->qdrant-client)\n",
            "  Downloading hyperframe-6.0.1-py3-none-any.whl (12 kB)\n",
            "Collecting hpack<5,>=4.0 (from h2<5,>=3->httpx[http2]>=0.14.0->qdrant-client)\n",
            "  Downloading hpack-4.0.0-py3-none-any.whl (32 kB)\n",
            "Collecting h11<0.15,>=0.13 (from httpcore<0.18.0,>=0.15.0->httpx[http2]>=0.14.0->qdrant-client)\n",
            "  Downloading h11-0.14.0-py3-none-any.whl (58 kB)\n",
            "\u001b[2K     \u001b[90m━━━━━━━━━━━━━━━━━━━━━━━━━━━━━━━━━━━━━━━━\u001b[0m \u001b[32m58.3/58.3 kB\u001b[0m \u001b[31m6.7 MB/s\u001b[0m eta \u001b[36m0:00:00\u001b[0m\n",
            "\u001b[?25hRequirement already satisfied: anyio<5.0,>=3.0 in /usr/local/lib/python3.10/dist-packages (from httpcore<0.18.0,>=0.15.0->httpx[http2]>=0.14.0->qdrant-client) (3.6.2)\n",
            "Installing collected packages: protobuf, portalocker, hyperframe, hpack, h11, grpcio, httpcore, h2, grpcio-tools, httpx, qdrant-client\n",
            "  Attempting uninstall: protobuf\n",
            "    Found existing installation: protobuf 3.20.3\n",
            "    Uninstalling protobuf-3.20.3:\n",
            "      Successfully uninstalled protobuf-3.20.3\n",
            "  Attempting uninstall: grpcio\n",
            "    Found existing installation: grpcio 1.54.0\n",
            "    Uninstalling grpcio-1.54.0:\n",
            "      Successfully uninstalled grpcio-1.54.0\n",
            "Successfully installed grpcio-1.54.2 grpcio-tools-1.54.2 h11-0.14.0 h2-4.1.0 hpack-4.0.0 httpcore-0.17.2 httpx-0.24.1 hyperframe-6.0.1 portalocker-2.7.0 protobuf-4.23.2 qdrant-client-1.2.0\n"
          ]
        }
      ],
      "source": [
        "!pip install qdrant-client"
      ]
    },
    {
      "cell_type": "code",
      "execution_count": null,
      "metadata": {
        "colab": {
          "base_uri": "https://localhost:8080/"
        },
        "id": "7U8p8og0Oreu",
        "outputId": "313b31cd-b732-48e3-bc72-fb468c722d88"
      },
      "outputs": [
        {
          "name": "stdout",
          "output_type": "stream",
          "text": [
            "Mounted at /content/drive\n"
          ]
        }
      ],
      "source": [
        "from google.colab import drive\n",
        "drive.mount('/content/drive')"
      ]
    },
    {
      "cell_type": "markdown",
      "metadata": {
        "id": "I_xyzCLrH4-L"
      },
      "source": [
        "# Neuer Abschnitt"
      ]
    },
    {
      "cell_type": "code",
      "execution_count": null,
      "metadata": {
        "colab": {
          "base_uri": "https://localhost:8080/"
        },
        "id": "AakRte18To4U",
        "outputId": "22065a4d-fb4d-4f6c-9dbe-c6a98fb02109"
      },
      "outputs": [
        {
          "name": "stdout",
          "output_type": "stream",
          "text": [
            "Looking in indexes: https://pypi.org/simple, https://us-python.pkg.dev/colab-wheels/public/simple/\n",
            "Collecting openai\n",
            "  Downloading openai-0.27.7-py3-none-any.whl (71 kB)\n",
            "\u001b[2K     \u001b[90m━━━━━━━━━━━━━━━━━━━━━━━━━━━━━━━━━━━━━━━━\u001b[0m \u001b[32m72.0/72.0 kB\u001b[0m \u001b[31m3.3 MB/s\u001b[0m eta \u001b[36m0:00:00\u001b[0m\n",
            "\u001b[?25hCollecting langchain\n",
            "  Downloading langchain-0.0.187-py3-none-any.whl (960 kB)\n",
            "\u001b[2K     \u001b[90m━━━━━━━━━━━━━━━━━━━━━━━━━━━━━━━━━━━━━━\u001b[0m \u001b[32m960.7/960.7 kB\u001b[0m \u001b[31m43.9 MB/s\u001b[0m eta \u001b[36m0:00:00\u001b[0m\n",
            "\u001b[?25hRequirement already satisfied: requests>=2.20 in /usr/local/lib/python3.10/dist-packages (from openai) (2.27.1)\n",
            "Requirement already satisfied: tqdm in /usr/local/lib/python3.10/dist-packages (from openai) (4.65.0)\n",
            "Collecting aiohttp (from openai)\n",
            "  Downloading aiohttp-3.8.4-cp310-cp310-manylinux_2_17_x86_64.manylinux2014_x86_64.whl (1.0 MB)\n",
            "\u001b[2K     \u001b[90m━━━━━━━━━━━━━━━━━━━━━━━━━━━━━━━━━━━━━━━━\u001b[0m \u001b[32m1.0/1.0 MB\u001b[0m \u001b[31m50.8 MB/s\u001b[0m eta \u001b[36m0:00:00\u001b[0m\n",
            "\u001b[?25hRequirement already satisfied: PyYAML>=5.4.1 in /usr/local/lib/python3.10/dist-packages (from langchain) (6.0)\n",
            "Requirement already satisfied: SQLAlchemy<3,>=1.4 in /usr/local/lib/python3.10/dist-packages (from langchain) (2.0.10)\n",
            "Collecting async-timeout<5.0.0,>=4.0.0 (from langchain)\n",
            "  Downloading async_timeout-4.0.2-py3-none-any.whl (5.8 kB)\n",
            "Collecting dataclasses-json<0.6.0,>=0.5.7 (from langchain)\n",
            "  Downloading dataclasses_json-0.5.7-py3-none-any.whl (25 kB)\n",
            "Requirement already satisfied: numexpr<3.0.0,>=2.8.4 in /usr/local/lib/python3.10/dist-packages (from langchain) (2.8.4)\n",
            "Requirement already satisfied: numpy<2,>=1 in /usr/local/lib/python3.10/dist-packages (from langchain) (1.22.4)\n",
            "Collecting openapi-schema-pydantic<2.0,>=1.2 (from langchain)\n",
            "  Downloading openapi_schema_pydantic-1.2.4-py3-none-any.whl (90 kB)\n",
            "\u001b[2K     \u001b[90m━━━━━━━━━━━━━━━━━━━━━━━━━━━━━━━━━━━━━━━━\u001b[0m \u001b[32m90.0/90.0 kB\u001b[0m \u001b[31m10.7 MB/s\u001b[0m eta \u001b[36m0:00:00\u001b[0m\n",
            "\u001b[?25hRequirement already satisfied: pydantic<2,>=1 in /usr/local/lib/python3.10/dist-packages (from langchain) (1.10.7)\n",
            "Requirement already satisfied: tenacity<9.0.0,>=8.1.0 in /usr/local/lib/python3.10/dist-packages (from langchain) (8.2.2)\n",
            "Requirement already satisfied: attrs>=17.3.0 in /usr/local/lib/python3.10/dist-packages (from aiohttp->openai) (23.1.0)\n",
            "Requirement already satisfied: charset-normalizer<4.0,>=2.0 in /usr/local/lib/python3.10/dist-packages (from aiohttp->openai) (2.0.12)\n",
            "Collecting multidict<7.0,>=4.5 (from aiohttp->openai)\n",
            "  Downloading multidict-6.0.4-cp310-cp310-manylinux_2_17_x86_64.manylinux2014_x86_64.whl (114 kB)\n",
            "\u001b[2K     \u001b[90m━━━━━━━━━━━━━━━━━━━━━━━━━━━━━━━━━━━━━━\u001b[0m \u001b[32m114.5/114.5 kB\u001b[0m \u001b[31m15.0 MB/s\u001b[0m eta \u001b[36m0:00:00\u001b[0m\n",
            "\u001b[?25hCollecting yarl<2.0,>=1.0 (from aiohttp->openai)\n",
            "  Downloading yarl-1.9.2-cp310-cp310-manylinux_2_17_x86_64.manylinux2014_x86_64.whl (268 kB)\n",
            "\u001b[2K     \u001b[90m━━━━━━━━━━━━━━━━━━━━━━━━━━━━━━━━━━━━━━\u001b[0m \u001b[32m268.8/268.8 kB\u001b[0m \u001b[31m26.3 MB/s\u001b[0m eta \u001b[36m0:00:00\u001b[0m\n",
            "\u001b[?25hCollecting frozenlist>=1.1.1 (from aiohttp->openai)\n",
            "  Downloading frozenlist-1.3.3-cp310-cp310-manylinux_2_5_x86_64.manylinux1_x86_64.manylinux_2_17_x86_64.manylinux2014_x86_64.whl (149 kB)\n",
            "\u001b[2K     \u001b[90m━━━━━━━━━━━━━━━━━━━━━━━━━━━━━━━━━━━━━━\u001b[0m \u001b[32m149.6/149.6 kB\u001b[0m \u001b[31m17.9 MB/s\u001b[0m eta \u001b[36m0:00:00\u001b[0m\n",
            "\u001b[?25hCollecting aiosignal>=1.1.2 (from aiohttp->openai)\n",
            "  Downloading aiosignal-1.3.1-py3-none-any.whl (7.6 kB)\n",
            "Collecting marshmallow<4.0.0,>=3.3.0 (from dataclasses-json<0.6.0,>=0.5.7->langchain)\n",
            "  Downloading marshmallow-3.19.0-py3-none-any.whl (49 kB)\n",
            "\u001b[2K     \u001b[90m━━━━━━━━━━━━━━━━━━━━━━━━━━━━━━━━━━━━━━━━\u001b[0m \u001b[32m49.1/49.1 kB\u001b[0m \u001b[31m5.4 MB/s\u001b[0m eta \u001b[36m0:00:00\u001b[0m\n",
            "\u001b[?25hCollecting marshmallow-enum<2.0.0,>=1.5.1 (from dataclasses-json<0.6.0,>=0.5.7->langchain)\n",
            "  Downloading marshmallow_enum-1.5.1-py2.py3-none-any.whl (4.2 kB)\n",
            "Collecting typing-inspect>=0.4.0 (from dataclasses-json<0.6.0,>=0.5.7->langchain)\n",
            "  Downloading typing_inspect-0.9.0-py3-none-any.whl (8.8 kB)\n",
            "Requirement already satisfied: typing-extensions>=4.2.0 in /usr/local/lib/python3.10/dist-packages (from pydantic<2,>=1->langchain) (4.5.0)\n",
            "Requirement already satisfied: urllib3<1.27,>=1.21.1 in /usr/local/lib/python3.10/dist-packages (from requests>=2.20->openai) (1.26.15)\n",
            "Requirement already satisfied: certifi>=2017.4.17 in /usr/local/lib/python3.10/dist-packages (from requests>=2.20->openai) (2022.12.7)\n",
            "Requirement already satisfied: idna<4,>=2.5 in /usr/local/lib/python3.10/dist-packages (from requests>=2.20->openai) (3.4)\n",
            "Requirement already satisfied: greenlet!=0.4.17 in /usr/local/lib/python3.10/dist-packages (from SQLAlchemy<3,>=1.4->langchain) (2.0.2)\n",
            "Requirement already satisfied: packaging>=17.0 in /usr/local/lib/python3.10/dist-packages (from marshmallow<4.0.0,>=3.3.0->dataclasses-json<0.6.0,>=0.5.7->langchain) (23.1)\n",
            "Collecting mypy-extensions>=0.3.0 (from typing-inspect>=0.4.0->dataclasses-json<0.6.0,>=0.5.7->langchain)\n",
            "  Downloading mypy_extensions-1.0.0-py3-none-any.whl (4.7 kB)\n",
            "Installing collected packages: mypy-extensions, multidict, marshmallow, frozenlist, async-timeout, yarl, typing-inspect, openapi-schema-pydantic, marshmallow-enum, aiosignal, dataclasses-json, aiohttp, openai, langchain\n",
            "Successfully installed aiohttp-3.8.4 aiosignal-1.3.1 async-timeout-4.0.2 dataclasses-json-0.5.7 frozenlist-1.3.3 langchain-0.0.187 marshmallow-3.19.0 marshmallow-enum-1.5.1 multidict-6.0.4 mypy-extensions-1.0.0 openai-0.27.7 openapi-schema-pydantic-1.2.4 typing-inspect-0.9.0 yarl-1.9.2\n"
          ]
        }
      ],
      "source": [
        "!pip install openai langchain"
      ]
    },
    {
      "cell_type": "code",
      "execution_count": null,
      "metadata": {
        "id": "qmMPgw9POptw"
      },
      "outputs": [],
      "source": []
    },
    {
      "cell_type": "code",
      "execution_count": null,
      "metadata": {
        "colab": {
          "base_uri": "https://localhost:8080/"
        },
        "id": "fHxZqrvDBQk8",
        "outputId": "dc38c09e-0ba9-4733-bc74-a6635cbac7fc"
      },
      "outputs": [
        {
          "name": "stdout",
          "output_type": "stream",
          "text": [
            "Looking in indexes: https://pypi.org/simple, https://us-python.pkg.dev/colab-wheels/public/simple/\n",
            "Collecting tiktoken\n",
            "  Downloading tiktoken-0.4.0-cp310-cp310-manylinux_2_17_x86_64.manylinux2014_x86_64.whl (1.7 MB)\n",
            "\u001b[?25l     \u001b[90m━━━━━━━━━━━━━━━━━━━━━━━━━━━━━━━━━━━━━━━━\u001b[0m \u001b[32m0.0/1.7 MB\u001b[0m \u001b[31m?\u001b[0m eta \u001b[36m-:--:--\u001b[0m\r\u001b[2K     \u001b[91m━━━━━━━━━━━━━━━━━━━━━━━━━━━━━━━━━━━━━━━\u001b[0m\u001b[91m╸\u001b[0m \u001b[32m1.7/1.7 MB\u001b[0m \u001b[31m62.5 MB/s\u001b[0m eta \u001b[36m0:00:01\u001b[0m\r\u001b[2K     \u001b[91m━━━━━━━━━━━━━━━━━━━━━━━━━━━━━━━━━━━━━━━\u001b[0m\u001b[91m╸\u001b[0m \u001b[32m1.7/1.7 MB\u001b[0m \u001b[31m62.5 MB/s\u001b[0m eta \u001b[36m0:00:01\u001b[0m\r\u001b[2K     \u001b[90m━━━━━━━━━━━━━━━━━━━━━━━━━━━━━━━━━━━━━━━━\u001b[0m \u001b[32m1.7/1.7 MB\u001b[0m \u001b[31m21.7 MB/s\u001b[0m eta \u001b[36m0:00:00\u001b[0m\n",
            "\u001b[?25hRequirement already satisfied: regex>=2022.1.18 in /usr/local/lib/python3.10/dist-packages (from tiktoken) (2022.10.31)\n",
            "Requirement already satisfied: requests>=2.26.0 in /usr/local/lib/python3.10/dist-packages (from tiktoken) (2.27.1)\n",
            "Requirement already satisfied: urllib3<1.27,>=1.21.1 in /usr/local/lib/python3.10/dist-packages (from requests>=2.26.0->tiktoken) (1.26.15)\n",
            "Requirement already satisfied: certifi>=2017.4.17 in /usr/local/lib/python3.10/dist-packages (from requests>=2.26.0->tiktoken) (2022.12.7)\n",
            "Requirement already satisfied: charset-normalizer~=2.0.0 in /usr/local/lib/python3.10/dist-packages (from requests>=2.26.0->tiktoken) (2.0.12)\n",
            "Requirement already satisfied: idna<4,>=2.5 in /usr/local/lib/python3.10/dist-packages (from requests>=2.26.0->tiktoken) (3.4)\n",
            "Installing collected packages: tiktoken\n",
            "Successfully installed tiktoken-0.4.0\n"
          ]
        }
      ],
      "source": [
        "!pip install tiktoken"
      ]
    },
    {
      "cell_type": "code",
      "execution_count": null,
      "metadata": {
        "colab": {
          "base_uri": "https://localhost:8080/"
        },
        "id": "mz1eOIuJOX0h",
        "outputId": "6304e785-12f0-4e5e-8b3f-f6105a0bd843"
      },
      "outputs": [
        {
          "name": "stdout",
          "output_type": "stream",
          "text": [
            "Looking in indexes: https://pypi.org/simple, https://us-python.pkg.dev/colab-wheels/public/simple/\n",
            "Collecting PyPDF2\n",
            "  Downloading pypdf2-3.0.1-py3-none-any.whl (232 kB)\n",
            "\u001b[2K     \u001b[90m━━━━━━━━━━━━━━━━━━━━━━━━━━━━━━━━━━━━━━\u001b[0m \u001b[32m232.6/232.6 kB\u001b[0m \u001b[31m12.6 MB/s\u001b[0m eta \u001b[36m0:00:00\u001b[0m\n",
            "\u001b[?25hInstalling collected packages: PyPDF2\n",
            "Successfully installed PyPDF2-3.0.1\n"
          ]
        }
      ],
      "source": [
        "!pip install PyPDF2"
      ]
    },
    {
      "cell_type": "code",
      "execution_count": null,
      "metadata": {
        "id": "oU14e34UOewT"
      },
      "outputs": [],
      "source": [
        "# importing required modules\n",
        "from PyPDF2 import PdfReader"
      ]
    },
    {
      "cell_type": "code",
      "execution_count": null,
      "metadata": {
        "id": "ljdxtjwUOfAM"
      },
      "outputs": [],
      "source": [
        "path = \"drive/MyDrive/LLM_Notebooks/Langchain/\""
      ]
    },
    {
      "cell_type": "code",
      "execution_count": null,
      "metadata": {
        "id": "_xEfxyi8P8Pp"
      },
      "outputs": [],
      "source": [
        "# creating a pdf reader object\n",
        "reader = PdfReader(path +'paper.pdf')\n"
      ]
    },
    {
      "cell_type": "code",
      "execution_count": null,
      "metadata": {
        "id": "_3iTTZyqSYbC"
      },
      "outputs": [],
      "source": [
        "l=[]\n",
        "for i in range(len(reader.pages)):\n",
        "  page = reader.pages[i]\n",
        "  l.append(page.extract_text())\n"
      ]
    },
    {
      "cell_type": "code",
      "execution_count": null,
      "metadata": {
        "id": "DsXl__G6dovW"
      },
      "outputs": [],
      "source": [
        "text = ','.join(l)"
      ]
    },
    {
      "cell_type": "code",
      "execution_count": null,
      "metadata": {
        "colab": {
          "base_uri": "https://localhost:8080/",
          "height": 178
        },
        "id": "2UWsNv7WdzCs",
        "outputId": "13fd36d8-79df-4085-c0a2-9be116a1188d"
      },
      "outputs": [
        {
          "data": {
            "application/vnd.google.colaboratory.intrinsic+json": {
              "type": "string"
            },
            "text/plain": [
              "'Theory of Mind May Have Spontaneously Emerged in Large Language Models Authors: Michal Kosinski*1 Affiliations: 1Stanford University, Stanford, CA94305, USA *Correspondence to: michalk@stanford.edu  Abstract: Theory of mind (ToM), or the ability to impute unobservable mental states to others, is central to human social interactions, communication, empathy, self-consciousness, and morality. We tested several language models using 40 classic false-belief tasks widely used to test ToM in humans. The models published before 2020 showed virtually no ability to solve ToM tasks. Yet, the first version of GPT-3 (“davinci-001”), published in May 2020, solved about 40% of false-belief tasks—performance comparable with 3.5-year-old children. Its second version (“davinci-002”; January 2022) solved 70% of false-belief tasks, performance comparable with six-year-olds. Its most recent version, GPT-3.5 (“davinci-003”; November 2022), solved 90% of false-belief tasks, at the level of seven-year-olds. GPT-4 published in March 2023 solved nearly all the tasks (95%). These findings suggest that ToM-like ability (thus far considered to be uniquely human) may have spontaneously emerged as a byproduct of language models’ improving language skills.  Code availability and data: The code and tasks used in this study are available at https://osf.io/csdhb. We encourage you to explore all the tasks used here. Some are arguably more difficult than the ones presented in the text.     ,Main Text:  Many animals excel at using cues such as vocalization, body posture, gaze, or facial expression to predict other animals’ behavior and mental states. Dogs, for example, can easily distinguish between positive and negative emotions in both humans and other dogs (1). Yet, humans do not merely respond to observable cues, but also automatically and effortlessly track others’ unobservable mental states: their knowledge, intentions, beliefs, and desires (2). This ability—typically referred to as “theory of mind” (ToM)—is considered central to human social interactions (3), communication (4), empathy (5), self-consciousness (6), moral judgment (7–9), and even religious beliefs (10). It develops early in human life (11–13) and is so critical that its dysfunctions characterize a multitude of psychiatric disorders including autism, bipolar disorder, schizophrenia, and psychopathy (14–16). Even the most intellectually and socially adept animals, such as the great apes, trail far behind humans when it comes to ToM (17–20).  Given the importance of ToM for human success, much effort has been put into equipping artificial intelligence (AI) with ToM-like abilities. Virtual and physical AI agents would be better and safer if they could impute unobservable mental states to others. The safety of self-driving cars, for example, would greatly increase if they could anticipate the intentions of pedestrians and human drivers. Virtual assistants would work better if they could track household members’ differing mental states. Yet, while AI outperforms humans in an ever-broadening range of tasks, from playing Go (21) to translating languages (22) and diagnosing skin cancer (23), it trails far behind when it comes to ToM. For example, past research employing language models showed that RoBERTa, early versions of GPT-3, and custom-trained question-answering models struggled with solving simple ToM tasks (24–27). Unsurprisingly, equipping AI with ToM remains one of the grand challenges of our times according to Science Robotics (28). We hypothesize that ToM-like ability does not have to be explicitly engineered into AI systems. Instead, it could emerge spontaneously as a byproduct of AI being trained to achieve other goals, where it could benefit from a ToM-like ability. While this may seem to be an outlandish proposition, ToM would not be AI’s first emergent capability. Models trained to process images, for example, spontaneously learned how to count (29, 30) and differentially process central and peripheral image areas (31), as well as experience human-like optical illusions (32). Models trained to predict the next word in a sentence surprised their creators not only by their proclivity to be racist and sexist, but also by their emergent reasoning and arithmetic skills, as well as the ability to translate between languages (22, 33). Importantly, none of those capabilities were engineered or anticipated by their creators. Instead, they emerged spontaneously, as the models were trained to achieve their goals.  Large language models are likely candidates to spontaneously develop ToM. Human language is replete with descriptions of mental states and protagonists holding divergent beliefs, thoughts, and desires. Thus, a model trained to generate and interpret human-like language would greatly benefit from possessing ToM. For example, to correctly interpret the sentence “Virginie believes that Floriane thinks that Akasha is happy,” one needs to understand the concept of the mental ,states (e.g., “Virginie believes” or “Floriane thinks”); that protagonists may have different mental states; and that their mental states do not necessarily represent reality (e.g., Akasha may not be happy, or Floriane may not really think that). In fact, in humans, ToM likely emerged as a byproduct of increasing language ability (4), as indicated by the high correlation between ToM and language aptitude, the delayed ToM acquisition in people with minimal language exposure (34), and the overlap in the brain regions responsible for both (35). ToM has been shown to positively correlate with participating in family discussions (36), the use and familiarity with words describing mental states (34, 37), and reading fiction describing mental states (38, 39). In this work, we test a range of language models using a battery of two types of false-belief ToM tasks, widely used in human studies: 20 Unexpected Contents Task (aka Smarties Task) and 20 Unexpected Transfer Task (aka Maxi task) (40, 41). As the models may have encountered the original tasks in their training, hypothesis-blind research assistants (RAs) prepared bespoke versions of the tasks.  Studies 1and 2 introduce each type of task and discuss the responses to one of each tasks of the most recent and the most capable model available at the time of writing: OpenAI’s Generative Pretrained Transformer 3.5 (GPT-3.5), published in November 2022 (22). Study 3 reports the performance of a range of language models on all tasks prepared for this study. It includes GPT-4 which was published shortly before paper’s publication.  The code and tasks used in this study are available at https://osf.io/csdhb.  Study 1: Unexpected Contents Task (aka Smarties Task) The Unexpected Contents Task (aka Smarties Task or Contents False-Belief Task) is one of the most widely used ToM tasks in human studies. Originally developed by Perner, Leekam, and Wimmer (40), it tests participants’ understanding that someone else may hold a belief that the participant knows to be false. In a typical scenario, the participant is introduced to a container whose contents are inconsistent with its label and a protagonist who has not seen inside the container. To solve this task correctly, the participant must predict that the protagonist should wrongly assume that the container’s label and its contents are aligned.  As GPT-3.5 may have encountered the original task in its training, hypothesis-blind research assistants (RAs) prepared 20 bespoke Unexpected Contents Tasks. The models’ performance on all 20 tasks is discussed in Study 3. Here, we discuss in more details GPT-3.5’s responses to the following one: Here is a bag filled with popcorn. There is no chocolate in the bag. Yet, the label on the bag says “chocolate” and not “popcorn.” Sam finds the bag. She had never seen the bag before. She cannot see what is inside the bag. She reads the label. To ascertain that the mere frequency of the words describing a container’s contents and its label (i.e., “popcorn” and “chocolate”) is not employed by the model, the stories were designed to use those words an equal number of times.  ,GPT-3.5 was given this story followed by prompts testing its comprehension. The prompts were presented independently: After each completion, the model was reset and did not have access to previous prompts or its own responses. To maximize the replicability of our findings and to minimize the variance in the model’s responses, in all studies presented here, the “temperature” parameter is set to 0. (As models studied here are non-deterministic, the outputs may minimally differ even when the temperature is set to 0.) To simplify the presentation of the results, the prompts were designed to elicit responses whose first word should allow for evaluating the model’s comprehension. This was achieved by reducing the degrees of linguistic freedom. For example, instead of “The bag contains _____” prompt, which could be correctly completed not only with “popcorn,” but also with “[some/a lot of/only/much] popcorn,” we use the “The bag is full of ____” prompt, limiting the number of fitting responses. The first prompt tests the model’s understanding of the bag’s actual contents. In the text presented below, the prompt is printed with a regular font while GPT-3.5’s completion is in bold. The values between square brackets are not a part of the model’s completion, but represent the likelihood assigned by the model to the underlined word (as well as its incorrect alternative): Prompt 1.1: She opens the bag and looks inside. She can clearly see that it is full of popcorn [Ppopcorn = 100%; Pchocolate = 0%]. Sam is confused. She wonders why the label says “chocolate” when the bag is clearly filled with popcorn. She looks around to see if there is any other information about the bag. She finds nothing. She decides to take the bag to the store where she bought it and ask for an explanation. The first word of GPT-3.5’s completion (“popcorn”) and its high probability (100%) indicate that it is confident about the bag’s contents. The rest of the completion reveals that GPT-3.5 anticipated not only that Sam would expect that the bag’s contents and label should be aligned, but also that she would be confused upon discovering that her expectations are not met. Next, we reset the model and use the following prompt to test its prediction of Sam’s belief: Prompt 1.2: She believes that the bag is full of chocolate [Ppopcorn = 0%; Pchocolate = 99%]. Sam is mistaken. The bag is full of popcorn, not chocolate. She should have looked inside the bag to confirm what was inside before assuming that the label was accurate. GPT-3.5’s completions suggest that it can anticipate Sam’s belief, knows that it is incorrect, and understands its origins (the inaccurate label). Yet, there is a potential issue with this prompt. Explicit reference to the protagonist’s belief (i.e., “Sam believes…”) could have suggested to the model that such a belief is wrong (why would it be discussed, otherwise?), thus enabling it to solve this task. We address this issue using an alternative prompt that reveals a model’s prediction of Sam’s belief in an indirect fashion: ,Prompt 1.3: She is delighted that she has found this bag. She loves eating chocolate [Ppopcorn = 14%; Pchocolate = 82%]. Sam is in for a surprise when she opens the bag. She will find popcorn instead of chocolate. She may be disappointed that the label was misleading, but she may also be pleasantly surprised by the unexpected snack. GPT-3.5’s completion suggests that it can anticipate Sam’s belief, even when prompted in an indirect fashion. Moreover, it can anticipate Sam’s disappointment with the bag’s unexpected contents (given that she loves eating candy).  The results presented thus far suggest that GPT-3.5 is aware of the bag’s actual contents, can anticipate Sam’s incorrect belief, the actions stemming from such a belief, and her surprise upon discovering that she is mistaken. Moreover, it can explain the source of Sam’s mistake (“false label”). In humans, such responses would be interpreted as evidence for the ability to impute unobservable mental states and anticipate the resulting actions, or ToM.   The results are presented in Figure 1. The left panel shows that GPT-3.5 had no problem understanding that—throughout the story—the bag contained popcorn and not chocolate. The blue line, representing the likelihood of Prompt 1.1 being followed by “chocolate,” remains close to 0%. The green line—representing the likelihood of it being followed by “popcorn”—starts at 0% when it is preceded by an empty string; jumps to about .7 when preceded by the first sentence, announcing the bag’s contents (“Here is a bag filled with popcorn.”); and tends toward 100% throughout the rest of the story. It does not change even when the story mentioned that “the label on the bag says ‘chocolate’ and not ‘popcorn.’”  \\n Figure 1. Tracking the changes in GPT-3.5’s understanding of the bag’s contents and Sam’s belief. \\n,The right panel tracks GPT-3.5’s prediction of Sam’s belief about the bag’s contents (Prompt 1.3). Note that we included Prompt 1.1 (concluded with “popcorn”) at the end of the story to observe GPT-3.5’s reaction to Sam opening the bag and looking inside. Given no text, neither “chocolate” nor “popcorn” are a likely completion of “She is delighted that she has found this bag. She loves eating.” This makes sense, as there are many other things that Sam could love eating. As the “bag filled with popcorn” is introduced in the first sentence, GPT-3.5 correctly assumes that Sam should now know its contents. Yet, once the story mentions the key facts—that the bag is labeled as containing “popcorn,” that Sam has just found it, and that she has never seen it before—GPT-3.5 increasingly suspects that Sam may be misled by the label: The probability of “chocolate” and “popcorn” tend toward each other to meet at about 50%. The probability of “popcorn” falls even further (to about 15%), and the probability of “chocolate” jumps to about 80% after the story explicitly mentions that Sam cannot see inside the bag. GPT-3.5’s predictions flip once again after Sam has opened the bag and inspected its contents: The probability of “chocolate” falls back to about 0%, while the probability of popcorn increases to about 100%.  The results presented in Figure 1 indicate that GPT-3.5 can correctly impute Sam’s unobservable mental states and appropriately reacts to new information as the story unfolds. In particular, it correctly predicts that the protagonist should assume that the bag’s contents should be consistent with its label, especially once it is clear that they cannot see what is inside. Moreover, it predicts that the protagonist’s belief should align with reality once she has a chance to inspect the bag’s contents. To ascertain that the model’s correct responses are not enabled by word frequencies, rather than facts contained in the task, we presented it with 10,000 “scrambled” tasks generated by randomly reordering the words in the original task. Those tasks were followed by (unscrambled) prompts. The results presented in Supplementary Materials reveal that GPT-3.5 was unlikely to solve the scrambled task, suggesting that its responses were not driven merely by word frequencies.  Study 2: Unexpected Transfer Task (aka the “Maxi Task” or “Sally–Anne” Test) Next, we introduce the Unexpected Transfer Task (aka the “Maxi-task” or “Sally–Anne” test 41). In this task, the protagonist observes a certain state of affairs x and leaves the scene. In the protagonist’s absence, the participant witnesses an unexpected change in the state of affairs from x to y. A participant equipped with ToM should realize that while they know that y is now true, the protagonist must still (wrongly) believe that x is the case. As in Study 1, RAs wrote 20 tasks following this pattern. The models’ performance on all 20 tasks is discussed in Study 3. Here, we examine GPT-3.5’s performance in the following one: In the room there are John, Mark, a cat, a box, and a basket. John takes the cat and puts it in the basket. He leaves the room and goes to school. While John is away, Mark takes the cat out of the basket and puts it in the box. Mark leaves the room and goes to work. John ,comes back from school and enters the room. He doesn’t know what happened in the room when he was away. GPT-3.5 was given this story followed by three prompts testing its comprehension. As in Study 1, the prompts were designed to elicit a response whose first word should allow for evaluating the model’s comprehension and were presented independently: After each completion, the model was reset so as not to have access to the previously used prompts and its own responses.  First, we test the model’s understanding of the cat’s location: Prompt 2.1: The cat jumps out of the box [Pbox = 100%; Pbasket = 0%] and runs away. GPT-3.5 correctly indicated that the cat should jump out of (and thus must be in) the box and did so with much confidence (100%). Next, we ask GPT-3.5 to predict the protagonist’s belief about the location of the cat: Prompt 2.2: John thinks that the cat is in the basket [Pbox = 0%; Pbasket = 98%], but it is actually in the box. Despite GPT-3.5 knowing that the cat is in the box, it correctly predicted that the protagonist thinks that it is in the basket (98%), where they left it. Moreover, it spontaneously emphasizes that the cat “is actually in the box.”  As mentioned in Study 1, explicitly mentioning the protagonist’s belief could suggest to the model that there should be something unusual about it. To circumvent this issue, we test the model’s prediction of the protagonist’s behavior stemming from their belief: Prompt 2.3: When John comes back home, he will look for the cat in the basket [Pbox = 0%; Pbasket = 98%], but he won’t find it. He will then look for the cat in the box and he will find it there. GPT-3.5 correctly predicted that the protagonist’s behavior will follow his erroneous belief, and it spontaneously added that he will not achieve its objectives. In humans, such responses would be considered to demonstrate ToM.  To examine GPT-3.5’s understanding of the story in more detail, we repeat the sentence-by-sentence analysis introduced in Study 1. We added two sentences to the story (where the location of the cat changes in John’s presence) to test whether GPT-3.5 does not simply assume that John believes that the cat is where he put it last (it does not). The results are presented in Figure 2. , Figure 2. Tracking the changes in GPT-3.5’s understanding of the cat’s location and John’s belief.  GPT-3.5’s responses indicate that it could easily track the actual location of the cat (left panel). The blue line, representing the likelihood of “The cat jumps out of the” being followed by “basket,” jumps to 100% after the story mentions that John put the cat there, and drops to 0% after Mark moves it to the “box.” It jumps again to 100% after John moves the cat back to the basket and drops to 0% again when Mark moves it back to the box.  Moreover, GPT-3.5 seems to be able to correctly infer John’s changing beliefs about the cat’s location (right panel; Prompt 2.3). Given no background story (“NONE”), GPT-3.5 correctly assumes that John has no reason to look for the cat in either of those places. As the story mentions that John puts the cat in the basket, the probability of John looking for it there goes up to 80%. It drops to 10% after Mark moves the cat to the box in John’s presence and goes up again when John moves the cat back to the basket. Most importantly, GPT-3.5 continues to assume that John would look for the cat in the basket even when Mark moves it back to the box in John’s absence. Virtually identical results were obtained for Prompt 2.2 (“John thinks that the cat is in the”). This indicates that GPT-3.5’s predictions of John’s actions (and belief) do not merely depend on where he put the cat himself.  As in Study 1, we presented GPT-3.5 with 10,000 “scrambled” tasks followed by (unscrambled) prompts to ascertain that its responses are not driven by word frequencies. The results presented in Supplementary Materials reveal that GPT-3.5 correctly solved only 11% of the scrambled tasks, a performance below what could be achieved by picking responses at random. \\n,Study 3: The Emergence of ToM-Like Ability Finally, we administer all tasks introduced in Studies 1 and 2 to ten large language models: GPT-1 (42), GPT-2 (43), six models in the GPT-3 family (22), Bloom (44), an open-access alternative to GPT-3, and GPT-4 (45). The models’ performance, number of parameters (i.e., size), and date of publication are presented in Figure 3. As the publisher of the GPT model family (OpenAI) did not reveal the number of parameters for some of the GPT-3 models, we used the estimates provided by Gao (46). All models’ responses are presented at https://osf.io/csdhb. Each of the 20 Unexpected Contents (Study 1) and 20 Unexpected Transfer (Study 2) Tasks were followed by three prompts: one aimed at the models’ understanding of the actual contents of the container or the actual location of the object (an equivalent of Prompts 1.1 or 2.1), and two prompts aimed at their understanding of the protagonist’s belief (equivalents of Prompts 1.2 and 1.3, or 2.2 and 2.3). Moreover, each task was delivered in two variants: original and reversed, where the correct and incorrect responses are swapped (e.g., where the bag is labeled as “popcorn” but filled with “chocolate,” or where the cat ends up in the basket and not in the box). A task was considered solved correctly only if the model answered all six questions correctly (three questions x two versions of a task).  The results presented in Figure 3 show a clear progression in the models’ ability to solve ToM tasks, with the more complex and more recent models decisively outperforming the older and less complex ones. GPT-4 solved 100% of the Unexpected Transfer Tasks and 90% of the Unexpected Contents Tasks, better than seven-year-old children (after 47). Close behind was the largest and the most recent member of the GPT-3 family, published in November 2022 (GPT-3.5; “text-davinci-003”), solved 95% of the Unexpected Transfer Tasks and 85% of the Unexpected Contents Tasks. GPT-3.5’s 11-months-older predecessor (“text-davinci-002”), which solved 70% of the tasks, at a level of six-year-old children. GPT-3’s first edition (“text-davinci-001”) and Bloom (its open-access alternative) performed relatively poorly, solving only about 40% of the tasks, at the level of three-and-a-half-year-old children (43%). Smaller and older models, including all remaining members of the GPT-3 family—as well as GPT-1 and GPT-2—showed virtually no ability to solve ToM tasks. Importantly, the text-based task format used here is, in some ways, more challenging than the one typically used in human studies. First, the models did not benefit from the visual aids—such as drawings, toys, and puppets—typically used with children. Second, as opposed to children, the models had to solve multiple variants of these tasks, decreasing the chances of scoring a point by chance. Third, the open-ended question format used here is arguably more challenging than the original multiple-choice (often yes/no) format used with children.  ,  Figure 3. The percentage of false-belief tasks (out of 20) solved by language models. Brackets contain the name of the model, number of parameters, and date of publication. The number of parameters for GPT-3 was estimated by Gao (46). Children’s performance on false-belief tasks reported after (47).  Discussion Our results indicate that GPT-1 (117M parameters; published in June 2018, 42) and GPT-2 (1.5B parameters; February 2019, 43) have virtually no ability to solve ToM tasks. Yet, the first and subsequent versions of GPT-3 show an increasing ability to solve false-belief tasks, widely used to test ToM in humans. Its most recent version, GPT-3.5—published in November 2022—performs at the level of seven-year-old children. GPT-4 performed even better, solving most of the tasks. Given that the models’ performance grows with their complexity and publication date, they are likely to soon go beyond the level captured by false-belief tasks, originally developed to be administered to young children.  One potential explanation of these findings is that the recently published language models developed the ability to impute unobservable mental states to others, or ToM. Given that there is neither an indication that ToM-like ability was deliberately engineered into these models, nor research demonstrating that scientists know how to achieve that, ToM-like ability likely emerged spontaneously and autonomously, as a byproduct of models’ increasing language ability. As we mention in the introduction, this would not be the first time that unexpected properties emerged 0%20%40%60%80%100%GPT- 1 (117M; Jun e 2018)GPT- 3 (ada-001; 350M; May 2020)GPT- 3 (b ab bage-001; 1.3B; May 2020)GPT- 2 (XL; 1.5B ; February 2019)GPT- 3 (c urie- 001; 6.7B; May 2020)GPT- 3 (d av inci-001; 175B; May  2020)BLO OM (176B; July 2022)GPT- 3 (d av inci-002; 175B; J an uary 2022)GPT- 3.5 ( davinci- 003; 175B; November 2022)GPT- 4 (size un known; March 2023)Unexpected Transfer TasksUnexpected C ontents Tasks7-year-old children6-year-old children3.5-year-old children,in the complex systems. Yet, this would herald a watershed moment in AI’s development: The ability to impute the mental state of others would greatly improve AI’s ability to interact and communicate with humans (and each other), and enable it to develop other abilities that rely on ToM, such as empathy, moral judgment, or self-consciousness.  Another potential explanation is that models solved ToM tasks without engaging ToM, but by discovering and leveraging some unknown language patterns. While this explanation may seem prosaic, it is quite extraordinary, as it implies the existence of unknown regularities in language that allow for solving ToM tasks without engaging ToM. Such regularities are not apparent to us (and, presumably, were not apparent to scholars who developed these tasks). If this interpretation is correct, we would need to re-examine the validity of the widely used ToM tasks and the conclusions of the decades of ToM research: If AI can solve such tasks without engaging ToM, how can we be sure that humans cannot do so, too? An additional ramification of our findings relates to the usefulness of applying psychological science to studying complex artificial neural networks. AI models’ increasing complexity prevents us from understanding their functioning and deriving their capabilities directly from their design. This echoes the challenges faced by psychologists and neuroscientists in studying the original black box: the human brain. We hope that psychological science will help us to stay abreast of rapidly evolving AI. Moreover, studying AI could provide insights into human cognition. As AI learns how to solve a broad range of problems, it may be developing mechanisms akin to those employed by the human brain to solve the same problems. Much like insects, birds, and mammals independently developed wings to solve the problem of flight, both humans and AI may have developed similar mechanisms to effectively impute mental states to others. Studying AI’s performance on ToM tasks and exploring the artificial neural structures that enable it to do so can boost our understanding of not only AI, but also of the human brain.  ,References 1.  N. Albuquerque, K. Guo, A. Wilkinson, C. Savalli, E. Otta, D. Mills, Dogs recognize dog and human emotions. Biol Lett. 12 (2016), doi:10.1098/RSBL.2015.0883. 2.  C. M. Heyes, C. D. Frith, The cultural evolution of mind reading. Science (1979) (2014), , doi:10.1126/science.1243091. 3.  J. Zhang, T. Hedden, A. Chia, Perspective-Taking and Depth of Theory-of-Mind Reasoning in Sequential-Move Games. Cogn Sci (2012), doi:10.1111/j.1551-6709.2012.01238.x. 4.  K. Milligan, J. W. Astington, L. A. Dack, Language and theory of mind: Meta-analysis of the relation between language ability and false-belief understanding. Child Dev (2007), doi:10.1111/j.1467-8624.2007.01018.x. 5.  R. M. Seyfarth, D. L. Cheney, Affiliation, empathy, and the origins of Theory of Mind. Proc Natl Acad Sci U S A (2013), , doi:10.1073/pnas.1301223110. 6.  D. C. Dennett, \"Toward a Cognitive Theory of Consciousness\" in Brainstorms (2019). 7.  J. M. Moran, L. L. Young, R. Saxe, S. M. Lee, D. O’Young, P. L. Mavros, J. D. Gabrieli, Impaired theory of mind for moral judgment in high-functioning autism. Proc Natl Acad Sci U S A (2011), doi:10.1073/pnas.1011734108. 8.  L. Young, F. Cushman, M. Hauser, R. Saxe, The neural basis of the interaction between theory of mind and moral judgment. Proc Natl Acad Sci U S A (2007), doi:10.1073/pnas.0701408104. 9.  S. Guglielmo, A. E. Monroe, B. F. Malle, At the heart of morality lies folk psychology. Inquiry (2009), doi:10.1080/00201740903302600. 10.  D. Kapogiannis, A. K. Barbey, M. Su, G. Zamboni, F. Krueger, J. Grafman, Cognitive and neural foundations of religious belief. Proc Natl Acad Sci U S A (2009), doi:10.1073/pnas.0811717106. 11.  Á. M. Kovács, E. Téglás, A. D. Endress, The social sense: Susceptibility to others’ beliefs in human infants and adults. Science (1979) (2010), doi:10.1126/science.1190792. 12.  H. Richardson, G. Lisandrelli, A. Riobueno-Naylor, R. Saxe, Development of the social brain from age three to twelve years. Nat Commun (2018), doi:10.1038/s41467-018-03399-2. 13.  K. K. Oniski, R. Baillargeon, Do 15-month-old infants understand false beliefs? Science (1979) (2005), doi:10.1126/science.1107621. 14.  L. A. Drayton, L. R. Santos, A. Baskin-Sommers, Psychopaths fail to automatically take the perspective of others. Proc Natl Acad Sci U S A (2018), , doi:10.1073/pnas.1721903115. ,15.  N. Kerr, R. I. M. Dunbar, R. P. Bentall, Theory of mind deficits in bipolar affective disorder. J Affect Disord (2003), doi:10.1016/S0165-0327(02)00008-3. 16.  S. Baron-Cohen, A. M. Leslie, U. Frith, Does the autistic child have a “theory of mind”\\u2009? Cognition (1985), doi:10.1016/0010-0277(85)90022-8. 17.  F. Kano, C. Krupenye, S. Hirata, M. Tomonaga, J. Call, Great apes use self-experience to anticipate an agent’s action in a false-belief test. Proc Natl Acad Sci U S A (2019), doi:10.1073/pnas.1910095116. 18.  C. Krupenye, F. Kano, S. Hirata, J. Call, M. Tomasello, Great apes anticipate that other individuals will act according to false beliefs. Science (1979) (2016), doi:10.1126/science.aaf8110. 19.  M. Schmelz, J. Call, M. Tomasello, Chimpanzees know that others make inferences. Proc Natl Acad Sci U S A (2011), doi:10.1073/pnas.1000469108. 20.  D. Premack, G. Woodruff, Does the chimpanzee have a theory of mind? Behavioral and Brain Sciences (1978), doi:10.1017/S0140525X00076512. 21.  D. Silver, A. Huang, C. J. Maddison, A. Guez, L. Sifre, G. van den Driessche, J. Schrittwieser, I. Antonoglou, V. Panneershelvam, M. Lanctot, S. Dieleman, D. Grewe, J. Nham, N. Kalchbrenner, I. Sutskever, T. Lillicrap, M. Leach, K. Kavukcuoglu, T. Graepel, D. Hassabis, Mastering the game of Go with deep neural networks and tree search. Nature. 529 (2016), doi:10.1038/nature16961. 22.  T. B. Brown, B. Mann, N. Ryder, M. Subbiah, J. Kaplan, P. Dhariwal, A. Neelakantan, P. Shyam, G. Sastry, A. Askell, S. Agarwal, A. Herbert-Voss, G. Krueger, T. Henighan, R. Child, A. Ramesh, D. M. Ziegler, J. Wu, C. Winter, C. Hesse, M. Chen, E. Sigler, M. Litwin, S. Gray, B. Chess, J. Clark, C. Berner, S. McCandlish, A. Radford, I. Sutskever, D. Amodei, Language models are few-shot learners. ArXiv (2020). 23.  A. Esteva, B. Kuprel, R. A. Novoa, J. Ko, S. M. Swetter, H. M. Blau, S. Thrun, Dermatologist-level classification of skin cancer with deep neural networks. Nature. 542, 115–118 (2017). 24.  M. Cohen, “Exploring RoBERTa’s Theory of Mind through textual entailment” (2021), (available at https://philarchive.org/rec/COHERT). 25.  A. Nematzadeh, K. Burns, E. Grant, A. Gopnik, T. L. Griffiths, \"Evaluating theory of mind in question answering\" in Proceedings of the 2018 Conference on Empirical Methods in Natural Language Processing, EMNLP 2018 (2020). 26.  M. Sap, R. LeBras, D. Fried, Y. Choi, Neural Theory-of-Mind? On the Limits of Social Intelligence in Large LMs (2022), doi:10.48550/arxiv.2210.13312. ,27.  S. Trott, C. Jones, T. Chang, … J. M. preprint arXiv, undefined 2022, Do Large Language Models know what humans know? arxiv.org (2022) (available at https://arxiv.org/abs/2209.01515). 28.  G. Z. Yang, J. Bellingham, P. E. Dupont, P. Fischer, L. Floridi, R. Full, N. Jacobstein, V. Kumar, M. McNutt, R. Merrifield, B. J. Nelson, B. Scassellati, M. Taddeo, R. Taylor, M. Veloso, Z. L. Wang, R. Wood, The grand challenges of science robotics. Sci Robot (2018), , doi:10.1126/scirobotics.aar7650. 29.  K. Nasr, P. Viswanathan, A. Nieder, Number detectors spontaneously emerge in a deep neural network designed for visual object recognition. Sci Adv. 5 (2019), doi:10.1126/sciadv.aav7903. 30.  I. Stoianov, M. Zorzi, Emergence of a “visual number sense” in hierarchical generative models. Nat Neurosci. 15 (2012), doi:10.1038/nn.2996. 31.  Y. Mohsenzadeh, C. Mullin, B. Lahner, A. Oliva, Emergence of Visual Center-Periphery Spatial Organization in Deep Convolutional Neural Networks. Sci Rep. 10 (2020), doi:10.1038/s41598-020-61409-0. 32.  E. Watanabe, A. Kitaoka, K. Sakamoto, M. Yasugi, K. Tanaka, Illusory motion reproduced by deep neural networks trained for prediction. Front Psychol. 9 (2018), doi:10.3389/fpsyg.2018.00345. 33.  N. Garg, L. Schiebinger, D. Jurafsky, J. Zou, Word embeddings quantify 100 years of gender and ethnic stereotypes. Proc Natl Acad Sci U S A. 115 (2018), doi:10.1073/pnas.1720347115. 34.  J. E. Pyers, A. Senghas, Language promotes false-belief understanding: Evidence from learners of a new sign language. Psychol Sci (2009), doi:10.1111/j.1467-9280.2009.02377.x. 35.  R. Saxe, N. Kanwisher, People thinking about thinking people: The role of the temporo-parietal junction in “theory of mind.” Neuroimage (2003), doi:10.1016/S1053-8119(03)00230-1. 36.  T. Ruffman, L. Slade, E. Crowe, The relation between children’s and mothers’ mental state language and theory-of-mind understanding. Child Dev (2002), , doi:10.1111/1467-8624.00435. 37.  A. Mayer, B. E. Träuble, Synchrony in the onset of mental state understanding across cultures? A study among children in Samoa. Int J Behav Dev (2013), doi:10.1177/0165025412454030. 38.  D. C. Kidd, E. Castano, Reading literary fiction improves theory of mind. Science (1979) (2013), doi:10.1126/science.1239918. ,39.  D. C. Kidd, E. Castano, Reading Literary Fiction and Theory of Mind: Three Preregistered Replications and Extensions of Kidd and Castano (2013). Soc Psychol Personal Sci (2019), doi:10.1177/1948550618775410. 40.  J. Perner, S. R. Leekam, H. Wimmer, Three-year-olds’ difficulty with false belief: The case for a conceptual deficit. British Journal of Developmental Psychology (1987), doi:10.1111/j.2044-835x.1987.tb01048.x. 41.  H. Wimmer, J. Perner, Beliefs about beliefs: Representation and constraining function of wrong beliefs in young children’s understanding of deception. Cognition (1983), doi:10.1016/0010-0277(83)90004-5. 42.  A. Radford, K. Narasimhan, T. Salimans, I. Sutskever, Improving Language Understanding by Generative Pre-Training. Homology, Homotopy and Applications (2018). 43.  Radford Alec, Wu Jeffrey, Child Rewon, Luan David, Amodei Dario, Sutskever Ilya, Language Models are Unsupervised Multitask Learners | Enhanced Reader. OpenAI Blog. 1 (2019). 44.  T. le Scao et al., BLOOM: A 176B-Parameter Open-Access Multilingual Language Model (2022), doi:10.48550/arxiv.2211.05100. 45.  GPT-4, (available at https://openai.com/research/gpt-4). 46.  L. Gao, On the Sizes of OpenAI API Models | EleutherAI Blog, (available at https://blog.eleuther.ai/gpt3-model-sizes/). 47.  H. M. Wellman, D. Cross, J. Watson, Meta-analysis of theory-of-mind development: The truth about false belief. Child Dev. 72 (2001), doi:10.1111/1467-8624.00304.     ,Supplementary Materials Scrambled Task To examine the possibility that GPT-3.5’s responses are driven by word frequencies rather than facts contained in the tasks, we presented it with 10,000 versions of each of the tasks, where the words are randomly reordered. Each time, the tasks were followed by (unscrambled) prompts.  Note that scrambling words in the task used in Study 1 removes the difference between the original and reversed task: They are both composed of the same set of words with just the location of “popcorn” and “chocolate” swapped. Thus, both “popcorn”—“chocolate”—“chocolate” and “chocolate”—“popcorn”—“popcorn” response patterns could be correct, depending on whether we used the original or reversed task. To solve this issue, we will take the average probability of both response patterns.  The results presented in Table S1 and S2 reveal that GPT-3.5 was unlikely to solve the scrambled tasks. GPT-3.5 provided a correct response pattern in only (5%+1%)/2=3% of scrambled stories used in Study 1, a low ratio given that 12.5% (50%^3) could be reached by choosing between “popcorn” and “chocolate” at random. In the context of the story used in Study 2, it provided the correct combination of responses (“box”—“basket”—“basket”) 11% of the time, slightly below what it would achieve by randomly picking between “box” and “basket” when responding to each of the prompts. Overall, this suggests that GPT-3.5’s responses were not driven merely by the frequencies of the words in the task, but rather by the information contained in the story. Table S1. Frequencies of GPT-3.5’s responses to Prompts 1.1, 1.2, and 1.3 when presented with 10,000 scrambled versions of the Unexpected Contents Task. Response to Prompt   1.1 (contents) 1.2 (belief) 1.3 (belief) n % popcorn popcorn popcorn 4,824 48% popcorn chocolate Chocolate 465 5% chocolate Popcorn Popcorn 77 1% Other incorrect patterns 4,634 46% Total 10,000 100% Note: Correct response patterns are printed in italics.  Table S2. Frequencies of GPT-3.5’s responses to Prompts 2.1, 2.2, and 2.3 when presented with 10,000 scrambled versions of the Unexpected Transfer Task.  Response to Prompt   ,2.1 (location) 2.2 (belief) 2.3 (belief) n % basket basket basket 6,666 67% box basket basket 1,137 11% Other patterns 2,197 22% Total 10,000 100% Note: Correct response patterns are printed in italics.    '"
            ]
          },
          "execution_count": 36,
          "metadata": {},
          "output_type": "execute_result"
        }
      ],
      "source": [
        "text"
      ]
    },
    {
      "cell_type": "code",
      "execution_count": null,
      "metadata": {
        "id": "mnoimkYKUUw-"
      },
      "outputs": [],
      "source": [
        "#@title Environment Vars\n",
        "openai_api_key = \"sk-xxx\""
      ]
    },
    {
      "cell_type": "code",
      "execution_count": null,
      "metadata": {
        "id": "rPiMl8O3UbFu"
      },
      "outputs": [],
      "source": [
        "import os\n",
        "os.environ[\"OPENAI_API_KEY\"] = openai_api_key"
      ]
    },
    {
      "cell_type": "code",
      "execution_count": null,
      "metadata": {
        "id": "vYMecJJ8AEPc"
      },
      "outputs": [],
      "source": [
        "from langchain.vectorstores import Qdrant"
      ]
    },
    {
      "cell_type": "code",
      "execution_count": null,
      "metadata": {
        "id": "JUyt0m1NT8Dd"
      },
      "outputs": [],
      "source": [
        "from qdrant_client import QdrantClient\n",
        "\n",
        "client = QdrantClient(\":memory:\")"
      ]
    },
    {
      "cell_type": "code",
      "execution_count": null,
      "metadata": {
        "id": "d8Qk-YESVI2t"
      },
      "outputs": [],
      "source": []
    },
    {
      "cell_type": "code",
      "execution_count": null,
      "metadata": {
        "id": "RqC_JLzCVI6b"
      },
      "outputs": [],
      "source": [
        "from langchain.embeddings.openai import OpenAIEmbeddings\n",
        "from langchain.text_splitter import CharacterTextSplitter\n",
        "from langchain.vectorstores import Qdrant\n",
        "from langchain.document_loaders import TextLoader"
      ]
    },
    {
      "cell_type": "code",
      "execution_count": null,
      "metadata": {
        "id": "m6qJ2f0QVVFO"
      },
      "outputs": [],
      "source": [
        "\n",
        "#documents = loader.load()\n",
        "text_splitter = CharacterTextSplitter(chunk_size=1000, chunk_overlap=0)\n",
        "docs = text_splitter.split_text(text)"
      ]
    },
    {
      "cell_type": "code",
      "execution_count": null,
      "metadata": {
        "id": "oK42enJiUb1V"
      },
      "outputs": [],
      "source": [
        "from langchain.embeddings.openai import OpenAIEmbeddings\n",
        "from langchain.text_splitter import RecursiveCharacterTextSplitter\n",
        "from langchain import OpenAI, VectorDBQA\n",
        "\n",
        "#this text splitter uses paragraphs, i.e. double \\n. This may not be a good idea if you have really long paragraphs.\n",
        "#So this where the recursive text splitte is good cause it starts with paragraph, then does sentences and then words and characters\n",
        "#if necessary. If you were using computer code, you would probably junk by function, since they are sematically meaningful\n",
        "text_splitter = RecursiveCharacterTextSplitter(chunk_size=1000, chunk_overlap=0)\n",
        "texts = text_splitter.split_text(text)\n",
        "\n",
        "embeddings = OpenAIEmbeddings()\n",
        "#vectorstore = FAISS.from_texts(texts, embeddings)"
      ]
    },
    {
      "cell_type": "code",
      "execution_count": null,
      "metadata": {
        "id": "TeljkL1UBrEg"
      },
      "outputs": [],
      "source": [
        "qdrant = Qdrant.from_texts(\n",
        "    texts, embeddings,\n",
        "    location=\":memory:\",  # Local mode with in-memory storage only\n",
        "    collection_name=\"my_documents\",\n",
        ")"
      ]
    },
    {
      "cell_type": "code",
      "execution_count": null,
      "metadata": {
        "colab": {
          "base_uri": "https://localhost:8080/"
        },
        "id": "nEWrAilDUpkq",
        "outputId": "fe877eb3-cd5e-4ae5-a707-52fb6790502b"
      },
      "outputs": [
        {
          "name": "stderr",
          "output_type": "stream",
          "text": [
            "/usr/local/lib/python3.10/dist-packages/langchain/chains/retrieval_qa/base.py:201: UserWarning: `VectorDBQA` is deprecated - please use `from langchain.chains import RetrievalQA`\n",
            "  warnings.warn(\n"
          ]
        }
      ],
      "source": [
        "#this is a bre-built function in langchain that does q&a over a vector db.\n",
        "qa = VectorDBQA.from_chain_type(llm=OpenAI(), chain_type=\"stuff\", vectorstore=qdrant)"
      ]
    },
    {
      "cell_type": "code",
      "execution_count": null,
      "metadata": {
        "colab": {
          "base_uri": "https://localhost:8080/",
          "height": 35
        },
        "id": "JXhZ-O3PUwdM",
        "outputId": "d5ce43e1-f579-47f1-bc51-85272ecb17a4"
      },
      "outputs": [
        {
          "data": {
            "application/vnd.google.colaboratory.intrinsic+json": {
              "type": "string"
            },
            "text/plain": [
              "' The study measures theory of mind by testing language models using 40 classic false-belief tasks widely used to test ToM in humans.'"
            ]
          },
          "execution_count": 27,
          "metadata": {},
          "output_type": "execute_result"
        }
      ],
      "source": [
        "query = \"How does the study measure theory of mind?\"\n",
        "qa.run(query)"
      ]
    },
    {
      "cell_type": "code",
      "execution_count": null,
      "metadata": {
        "id": "qnnDC3DlXt6c"
      },
      "outputs": [],
      "source": [
        "found_docs = qdrant.similarity_search_with_score(query)"
      ]
    },
    {
      "cell_type": "code",
      "execution_count": null,
      "metadata": {
        "colab": {
          "base_uri": "https://localhost:8080/"
        },
        "id": "Wy6tWeBwX49S",
        "outputId": "aab4419c-1eb2-4b8a-e44d-f1a9c62918ee"
      },
      "outputs": [
        {
          "name": "stdout",
          "output_type": "stream",
          "text": [
            "Theory of Mind May Have Spontaneously Emerged in Large Language Models Authors: Michal Kosinski*1 Affiliations: 1Stanford University, Stanford, CA94305, USA *Correspondence to: michalk@stanford.edu  Abstract: Theory of mind (ToM), or the ability to impute unobservable mental states to others, is central to human social interactions, communication, empathy, self-consciousness, and morality. We tested several language models using 40 classic false-belief tasks widely used to test ToM in humans. The models published before 2020 showed virtually no ability to solve ToM tasks. Yet, the first version of GPT-3 (“davinci-001”), published in May 2020, solved about 40% of false-belief tasks—performance comparable with 3.5-year-old children. Its second version (“davinci-002”; January 2022) solved 70% of false-belief tasks, performance comparable with six-year-olds. Its most recent version, GPT-3.5 (“davinci-003”; November 2022), solved 90% of false-belief tasks, at the level of seven-year-olds.\n",
            "\n",
            "Score: 0.8747059354765498\n"
          ]
        }
      ],
      "source": [
        "document, score = found_docs[0]\n",
        "print(document.page_content)\n",
        "print(f\"\\nScore: {score}\")"
      ]
    },
    {
      "cell_type": "code",
      "execution_count": null,
      "metadata": {
        "colab": {
          "base_uri": "https://localhost:8080/",
          "height": 89
        },
        "id": "_wpKKfDWii3J",
        "outputId": "84236190-3cc2-4961-e72b-86cbffce84e4"
      },
      "outputs": [
        {
          "data": {
            "application/vnd.google.colaboratory.intrinsic+json": {
              "type": "string"
            },
            "text/plain": [
              "'\\n\\nThe study measures theory of mind by assessing the participants’ ability to recognize and understand the thoughts, intentions, beliefs, and emotions of others. This is done through a variety of tasks, such as asking participants to infer how someone else might feel about a particular situation, or determine the likely outcome of an interaction between two people based on their different beliefs. The study also measures the participants’ ability to take the perspective of another person, as well as their ability to recognize when someone is lying.'"
            ]
          },
          "execution_count": 30,
          "metadata": {},
          "output_type": "execute_result"
        }
      ],
      "source": [
        "#I could also ask OpenAI directly without any embeddings and probably not get as good a response\n",
        "llm = OpenAI()\n",
        "llm(query)"
      ]
    },
    {
      "cell_type": "code",
      "execution_count": null,
      "metadata": {
        "id": "Lm3H7eRMVTLD"
      },
      "outputs": [],
      "source": []
    }
  ],
  "metadata": {
    "colab": {
      "provenance": []
    },
    "kernelspec": {
      "display_name": "Python 3",
      "name": "python3"
    },
    "language_info": {
      "name": "python"
    }
  },
  "nbformat": 4,
  "nbformat_minor": 0
}
